{
 "cells": [
  {
   "cell_type": "code",
   "execution_count": 55,
   "metadata": {},
   "outputs": [
    {
     "name": "stdout",
     "output_type": "stream",
     "text": [
      "Looking in indexes: https://pypi.tuna.tsinghua.edu.cn/simple\n",
      "Collecting yapf\n",
      "  Downloading https://pypi.tuna.tsinghua.edu.cn/packages/47/88/843c2e68f18a5879b4fbf37cb99fbabe1ffc4343b2e63191c8462235c008/yapf-0.32.0-py2.py3-none-any.whl (190kB)\n",
      "Installing collected packages: yapf\n",
      "Successfully installed yapf-0.32.0\n"
     ]
    }
   ],
   "source": [
    "!pip install yapf"
   ]
  },
  {
   "cell_type": "code",
   "execution_count": 53,
   "metadata": {},
   "outputs": [],
   "source": [
    "import os,random,gzip,pickle\n",
    "import numpy as np\n",
    "from urllib import request\n",
    "import matplotlib.pyplot as plt"
   ]
  },
  {
   "cell_type": "code",
   "execution_count": 19,
   "metadata": {},
   "outputs": [],
   "source": [
    "# filename = [\n",
    "# [\"training_images\",\"train-images-idx3-ubyte.gz\"],\n",
    "# [\"test_images\",\"t10k-images-idx3-ubyte.gz\"],\n",
    "# [\"training_labels\",\"train-labels-idx1-ubyte.gz\"],\n",
    "# [\"test_labels\",\"t10k-labels-idx1-ubyte.gz\"]\n",
    "# ]\n",
    "filename = [\"train-images-idx3-ubyte.gz\",\"t10k-images-idx3-ubyte.gz\",\"train-labels-idx1-ubyte.gz\",\"t10k-labels-idx1-ubyte.gz\"]"
   ]
  },
  {
   "cell_type": "code",
   "execution_count": 7,
   "metadata": {},
   "outputs": [],
   "source": [
    "base_url = \"http://yann.lecun.com/exdb/mnist/\""
   ]
  },
  {
   "cell_type": "code",
   "execution_count": 22,
   "metadata": {},
   "outputs": [
    {
     "data": {
      "text/plain": [
       "True"
      ]
     },
     "execution_count": 22,
     "metadata": {},
     "output_type": "execute_result"
    }
   ],
   "source": [
    "os.path.exists(os.path.join(os.getcwd(),filename[0]))"
   ]
  },
  {
   "cell_type": "code",
   "execution_count": 39,
   "metadata": {},
   "outputs": [],
   "source": [
    "def fetch(filename):\n",
    "    base_url = \"http://yann.lecun.com/exdb/mnist/\"\n",
    "    res = []\n",
    "    assert len(filename)==4\n",
    "    def exists(file):\n",
    "        return os.path.exists(os.path.join(os.getcwd(),file))\n",
    "    for i in range(len(filename)):\n",
    "        if  not exists(filename[i]):\n",
    "            print(\"Downloading \"+filename[i]+\"...\")\n",
    "            request.urlretrieve(base_url+filename[i], filename[i])\n",
    "            print('Download complete')\n",
    "        with gzip.open(os.path.join(os.getcwd(),filename[i]), 'rb') as f:\n",
    "            if i < 2:\n",
    "                res.append(np.frombuffer(f.read(), np.uint8, offset=16).reshape(-1,28*28))\n",
    "            else:\n",
    "                res.append(np.frombuffer(f.read(), np.uint8, offset=8))\n",
    "    return res"
   ]
  },
  {
   "cell_type": "code",
   "execution_count": 40,
   "metadata": {},
   "outputs": [],
   "source": [
    "X_train,X_test,y_train,y_test = fetch(filename)"
   ]
  },
  {
   "cell_type": "code",
   "execution_count": 51,
   "metadata": {},
   "outputs": [
    {
     "name": "stdout",
     "output_type": "stream",
     "text": [
      "5\n"
     ]
    },
    {
     "data": {
      "image/png": "[encoded data removed]",
      "text/plain": [
       "<Figure size 432x288 with 1 Axes>"
      ]
     },
     "metadata": {
      "needs_background": "light"
     },
     "output_type": "display_data"
    }
   ],
   "source": [
    "x = X_train[0]\n",
    "x = x.reshape([28,28])\n",
    "fig = plt.figure()\n",
    "ax1 = fig.add_subplot()\n",
    "ax1.imshow(x,cmap='gray')\n",
    "print(y_train[0])"
   ]
  },
  {
   "cell_type": "code",
   "execution_count": 56,
   "metadata": {},
   "outputs": [],
   "source": [
    "# Validation split\n",
    "rand=np.arange(60000)\n",
    "np.random.shuffle(rand)\n",
    "train_no=rand[:50000]\n",
    "\n",
    "val_no=np.setdiff1d(rand,train_no)\n",
    "\n",
    "X_train,X_val=X_train[train_no,:],X_train[val_no,:]\n",
    "y_train,y_val=y_train[train_no],y_train[val_no]"
   ]
  },
  {
   "cell_type": "code",
   "execution_count": null,
   "metadata": {},
   "outputs": [],
   "source": [
    "class Linear(object):\n",
    "    def __init__(self, in_features,out_features,bias=True):\n",
    "        self.in_features = in_features\n",
    "        self.out_features = out_features\n",
    "        self.weights =np.random.randn((self.in_features,self.out_features))\n",
    "        self.bias = np.zeros(self.out_features) if bias else None\n",
    "    \n",
    "    def forward(self,x):\n",
    "        x = np.dot(x,self.weights)\n",
    "        if self.bias:\n",
    "            x += self.bias\n",
    "        return x\n",
    "    \n",
    "    def backward(self,z):\n",
    "        # 把对x的梯度回传\n",
    "        "
   ]
  }
 ],
 "metadata": {
  "kernelspec": {
   "display_name": "Python 3",
   "language": "python",
   "name": "python3"
  },
  "language_info": {
   "codemirror_mode": {
    "name": "ipython",
    "version": 3
   },
   "file_extension": ".py",
   "mimetype": "text/x-python",
   "name": "python",
   "nbconvert_exporter": "python",
   "pygments_lexer": "ipython3",
   "version": "3.7.3"
  },
  "varInspector": {
   "cols": {
    "lenName": 16,
    "lenType": 16,
    "lenVar": 40
   },
   "kernels_config": {
    "python": {
     "delete_cmd_postfix": "",
     "delete_cmd_prefix": "del ",
     "library": "var_list.py",
     "varRefreshCmd": "print(var_dic_list())"
    },
    "r": {
     "delete_cmd_postfix": ") ",
     "delete_cmd_prefix": "rm(",
     "library": "var_list.r",
     "varRefreshCmd": "cat(var_dic_list()) "
    }
   },
   "position": {
    "height": "336.848px",
    "left": "1093.43px",
    "right": "20px",
    "top": "120px",
    "width": "350px"
   },
   "types_to_exclude": [
    "module",
    "function",
    "builtin_function_or_method",
    "instance",
    "_Feature"
   ],
   "window_display": false
  }
 },
 "nbformat": 4,
 "nbformat_minor": 2
}
